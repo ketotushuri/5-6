{
 "cells": [
  {
   "cell_type": "code",
   "execution_count": 1,
   "id": "827d2fc5-442d-4805-af87-e7230bbd02d7",
   "metadata": {},
   "outputs": [],
   "source": [
    "import pandas as pd\n",
    "from sklearn.model_selection import train_test_split\n",
    "from sklearn.linear_model import LinearRegression, LogisticRegression\n",
    "from sklearn.tree import DecisionTreeRegressor, DecisionTreeClassifier\n",
    "from sklearn.metrics import mean_squared_error, accuracy_score"
   ]
  },
  {
   "cell_type": "code",
   "execution_count": 2,
   "id": "a4289ea3-99f6-4a0d-af7c-d5b42ad34f86",
   "metadata": {},
   "outputs": [],
   "source": [
    "df = pd.read_csv('online_gaming_behavior_dataset.csv')"
   ]
  },
  {
   "cell_type": "code",
   "execution_count": 3,
   "id": "54943b1a-9adc-4ade-ade6-e68caa53ba80",
   "metadata": {},
   "outputs": [
    {
     "name": "stdout",
     "output_type": "stream",
     "text": [
      "Task 1 - Simple Linear Regression MSE: 47.57878793144798\n"
     ]
    }
   ],
   "source": [
    "X = df[['Age']]\n",
    "y = df['PlayTimeHours']\n",
    "\n",
    "X_train, X_test, y_train, y_test = train_test_split(X, y, test_size=0.2, random_state=42)\n",
    "simple_lr = LinearRegression()\n",
    "simple_lr.fit(X_train, y_train)\n",
    "y_pred_simple_lr = simple_lr.predict(X_test)\n",
    "mse_simple_lr = mean_squared_error(y_test, y_pred_simple_lr)\n",
    "print(f'Task 1 - Simple Linear Regression MSE: {mse_simple_lr}')"
   ]
  },
  {
   "cell_type": "code",
   "execution_count": 4,
   "id": "576d0c52-a4dc-442a-95db-50019cdda24d",
   "metadata": {},
   "outputs": [],
   "source": [
    "X = pd.get_dummies(df[['Age', 'Gender', 'SessionsPerWeek']], drop_first=True)\n",
    "y = df['PlayTimeHours']"
   ]
  },
  {
   "cell_type": "code",
   "execution_count": 5,
   "id": "aa0c6c43-b0d6-4ddd-9534-59e7b282028b",
   "metadata": {},
   "outputs": [
    {
     "name": "stdout",
     "output_type": "stream",
     "text": [
      "Task 2 - Multiple Linear Regression MSE: 47.5768268721601\n"
     ]
    }
   ],
   "source": [
    "X_train, X_test, y_train, y_test = train_test_split(X, y, test_size=0.2, random_state=42)\n",
    "multiple_lr = LinearRegression()\n",
    "multiple_lr.fit(X_train, y_train)\n",
    "y_pred_multiple_lr = multiple_lr.predict(X_test)\n",
    "mse_multiple_lr = mean_squared_error(y_test, y_pred_multiple_lr)\n",
    "print(f'Task 2 - Multiple Linear Regression MSE: {mse_multiple_lr}')"
   ]
  },
  {
   "cell_type": "code",
   "execution_count": 6,
   "id": "2935f646-75be-472c-9e03-ab99e7155cff",
   "metadata": {},
   "outputs": [],
   "source": [
    "X = pd.get_dummies(df[['Age', 'Gender', 'SessionsPerWeek']], drop_first=True)\n",
    "y = df['PlayTimeHours']"
   ]
  },
  {
   "cell_type": "code",
   "execution_count": 7,
   "id": "8eeba4b0-d043-4fa2-90b8-0bb636df4008",
   "metadata": {},
   "outputs": [
    {
     "name": "stdout",
     "output_type": "stream",
     "text": [
      "Task 3 - Decision Tree Regressor MSE: 49.58612037104854\n"
     ]
    }
   ],
   "source": [
    "X_train, X_test, y_train, y_test = train_test_split(X, y, test_size=0.2, random_state=42)\n",
    "dt_regressor = DecisionTreeRegressor()\n",
    "dt_regressor.fit(X_train, y_train)\n",
    "y_pred_dt_regressor = dt_regressor.predict(X_test)\n",
    "mse_dt_regressor = mean_squared_error(y_test, y_pred_dt_regressor)\n",
    "print(f'Task 3 - Decision Tree Regressor MSE: {mse_dt_regressor}')"
   ]
  },
  {
   "cell_type": "code",
   "execution_count": 8,
   "id": "d2fc1e6e-c304-4d96-bb88-6e80e2f3da8f",
   "metadata": {},
   "outputs": [],
   "source": [
    "X = pd.get_dummies(df[['Age', 'Gender', 'SessionsPerWeek']], drop_first=True)\n",
    "y = df['EngagementLevel']\n"
   ]
  },
  {
   "cell_type": "code",
   "execution_count": 9,
   "id": "e2748bf6-5e66-49e4-8942-a1f1ef89d728",
   "metadata": {},
   "outputs": [
    {
     "name": "stdout",
     "output_type": "stream",
     "text": [
      "Task 4 - Logistic Regression Accuracy: 0.6188335206694142\n"
     ]
    }
   ],
   "source": [
    "X_train, X_test, y_train, y_test = train_test_split(X, y, test_size=0.2, random_state=42)\n",
    "logistic_regressor = LogisticRegression(max_iter=1000)\n",
    "logistic_regressor.fit(X_train, y_train)\n",
    "y_pred_logistic_regressor = logistic_regressor.predict(X_test)\n",
    "accuracy_logistic_regressor = accuracy_score(y_test, y_pred_logistic_regressor)\n",
    "print(f'Task 4 - Logistic Regression Accuracy: {accuracy_logistic_regressor}')"
   ]
  },
  {
   "cell_type": "code",
   "execution_count": 10,
   "id": "516b9e7b-d459-449e-8c4f-b701c0598fa6",
   "metadata": {},
   "outputs": [],
   "source": [
    "X = pd.get_dummies(df[['Age', 'Gender', 'SessionsPerWeek']], drop_first=True)\n",
    "y = df['EngagementLevel']"
   ]
  },
  {
   "cell_type": "code",
   "execution_count": 11,
   "id": "58f94a6b-7665-4baa-82ab-57a62c718624",
   "metadata": {},
   "outputs": [
    {
     "name": "stdout",
     "output_type": "stream",
     "text": [
      "Task 5 - Decision Tree Classifier Accuracy: 0.6197077557137505\n"
     ]
    }
   ],
   "source": [
    "X_train, X_test, y_train, y_test = train_test_split(X, y, test_size=0.2, random_state=42)\n",
    "dt_classifier = DecisionTreeClassifier()\n",
    "dt_classifier.fit(X_train, y_train)\n",
    "y_pred_dt_classifier = dt_classifier.predict(X_test)\n",
    "accuracy_dt_classifier = accuracy_score(y_test, y_pred_dt_classifier)\n",
    "print(f'Task 5 - Decision Tree Classifier Accuracy: {accuracy_dt_classifier}')"
   ]
  },
  {
   "cell_type": "code",
   "execution_count": null,
   "id": "1ec44796-fc9f-4c6c-8550-e2517e57b51a",
   "metadata": {},
   "outputs": [],
   "source": [
    "#ეს ამოცანა მოიცავს ონლაინ თამაშების ქცევის მონაცემთა ნაკრების ანალიზს\n",
    "მანქანური სწავლების სხვადასხვა მოდელების შესაქმნელად და \n",
    "შესაფასებლად. მონაცემთა ნაკრები მოიცავს ინფორმაციას, \n",
    "როგორიცაა მოთამაშის ასაკი, სქესი, მდებარეობა, თამაშის \n",
    "ჟანრი, სათამაშო დროის საათები, თამაშში შესყიდვები, \n",
    "თამაშის სირთულე, სესიები კვირაში, სესიის საშუალო \n",
    "ხანგრძლივობა, მოთამაშის დონე, განბლოკილი მიღწევები \n",
    "და ჩართულობის დონე."
   ]
  },
  {
   "cell_type": "code",
   "execution_count": null,
   "id": "ec782053-c29c-49b6-87e9-46a977db9532",
   "metadata": {},
   "outputs": [],
   "source": []
  },
  {
   "cell_type": "code",
   "execution_count": null,
   "id": "96d4111c-3899-480f-8c1d-d565a82922a8",
   "metadata": {},
   "outputs": [],
   "source": []
  },
  {
   "cell_type": "code",
   "execution_count": null,
   "id": "c73f504c-c74b-4a59-b00c-2378465dc8df",
   "metadata": {},
   "outputs": [],
   "source": []
  },
  {
   "cell_type": "code",
   "execution_count": null,
   "id": "de81a748-60db-477c-a0d7-782ba4db786b",
   "metadata": {},
   "outputs": [],
   "source": []
  }
 ],
 "metadata": {
  "kernelspec": {
   "display_name": "Python 3 (ipykernel)",
   "language": "python",
   "name": "python3"
  },
  "language_info": {
   "codemirror_mode": {
    "name": "ipython",
    "version": 3
   },
   "file_extension": ".py",
   "mimetype": "text/x-python",
   "name": "python",
   "nbconvert_exporter": "python",
   "pygments_lexer": "ipython3",
   "version": "3.11.7"
  }
 },
 "nbformat": 4,
 "nbformat_minor": 5
}
